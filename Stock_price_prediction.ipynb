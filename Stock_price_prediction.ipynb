{
 "cells": [
  {
   "cell_type": "markdown",
   "metadata": {},
   "source": [
    "# Financial Engineering using RNN:\n",
    "### Forecasting Google Stock Prices using LSTM"
   ]
  },
  {
   "cell_type": "code",
   "execution_count": 1,
   "metadata": {},
   "outputs": [],
   "source": [
    "# importing the libraries\n",
    "import numpy as np\n",
    "import matplotlib.pyplot as plt\n",
    "import pandas as pd"
   ]
  },
  {
   "cell_type": "code",
   "execution_count": 2,
   "metadata": {},
   "outputs": [],
   "source": [
    "# Importing the training set\n",
    "dataset_train = pd.read_csv('Google_Stock_Price_Train.csv')\n",
    "training_set = dataset_train.iloc[:, 1:2].values # using 1:2 instead of 1 to generate numpy array, because neural networks use numpy array"
   ]
  },
  {
   "cell_type": "code",
   "execution_count": 25,
   "metadata": {},
   "outputs": [
    {
     "data": {
      "image/png": "[encoded data removed]",
      "text/plain": [
       "<Figure size 432x288 with 1 Axes>"
      ]
     },
     "metadata": {
      "needs_background": "light"
     },
     "output_type": "display_data"
    }
   ],
   "source": [
    "# visualizing the stock price movement\n",
    "plt.plot(dataset_train['Open'], color = 'red', label = 'Google Stock Price')\n",
    "plt.title('Google Stock Price Over the Years')\n",
    "plt.xlabel('Time')\n",
    "plt.ylabel('Google Stock Price')\n",
    "plt.legend()\n",
    "plt.show()"
   ]
  },
  {
   "cell_type": "code",
   "execution_count": 12,
   "metadata": {},
   "outputs": [
    {
     "data": {
      "text/plain": [
       "array([[325.25],\n",
       "       [331.27],\n",
       "       [329.83],\n",
       "       ...,\n",
       "       [793.7 ],\n",
       "       [783.33],\n",
       "       [782.75]])"
      ]
     },
     "execution_count": 12,
     "metadata": {},
     "output_type": "execute_result"
    }
   ],
   "source": [
    "training_set"
   ]
  },
  {
   "cell_type": "code",
   "execution_count": 6,
   "metadata": {},
   "outputs": [],
   "source": [
    "# Feature Scaling\n",
    "from sklearn.preprocessing import MinMaxScaler\n",
    "sc = MinMaxScaler(feature_range = (0, 1))\n",
    "training_set_scaled = sc.fit_transform(training_set) # fit calculates min and transform applies that on all values"
   ]
  },
  {
   "cell_type": "code",
   "execution_count": 7,
   "metadata": {},
   "outputs": [],
   "source": [
    "# Creating a data structure with 60 timesteps and 1 output (looking at past 3 months to learn and predict price on 61st day)\n",
    "X_train = []\n",
    "y_train = []\n",
    "for i in range(60, 1258): # number of values in the data set\n",
    "    X_train.append(training_set_scaled[i-60:i, 0])\n",
    "    y_train.append(training_set_scaled[i, 0])\n",
    "X_train, y_train = np.array(X_train), np.array(y_train)"
   ]
  },
  {
   "cell_type": "code",
   "execution_count": 9,
   "metadata": {},
   "outputs": [],
   "source": [
    "# Reshaping\n",
    "X_train = np.reshape(X_train, (X_train.shape[0], X_train.shape[1], 1))"
   ]
  },
  {
   "cell_type": "code",
   "execution_count": 10,
   "metadata": {},
   "outputs": [
    {
     "name": "stderr",
     "output_type": "stream",
     "text": [
      "Using Theano backend.\n"
     ]
    }
   ],
   "source": [
    "# Importing the Keras libraries and packages\n",
    "from keras.models import Sequential\n",
    "from keras.layers import Dense\n",
    "from keras.layers import LSTM\n",
    "from keras.layers import Dropout"
   ]
  },
  {
   "cell_type": "code",
   "execution_count": 11,
   "metadata": {},
   "outputs": [],
   "source": [
    "# Initialising the RNN\n",
    "regressor = Sequential() # creating sequence of layers"
   ]
  },
  {
   "cell_type": "code",
   "execution_count": 13,
   "metadata": {},
   "outputs": [],
   "source": [
    "# Adding the first LSTM layer and some Dropout regularisation\n",
    "\n",
    "# return_sequences is set to True to make stacked LSTM with many layers. Default is False\n",
    "# units - number of neurons in the layer. Has to be high since learnig stock price is complex (provide high dimensionality)\n",
    "# dropout regularization is doneto prevent overfitting - drop 20% of neurons of LSTM layer in each iteration of the training\n",
    "\n",
    "regressor.add(LSTM(units = 50, return_sequences = True, input_shape = (X_train.shape[1], 1)))\n",
    "regressor.add(Dropout(0.2))\n",
    "\n",
    "# Adding a second LSTM layer and some Dropout regularisation\n",
    "regressor.add(LSTM(units = 50, return_sequences = True)) # inpur shape not required here in anymore, since already added before\n",
    "regressor.add(Dropout(0.2))\n",
    "\n",
    "# Adding a third LSTM layer and some Dropout regularisation\n",
    "regressor.add(LSTM(units = 50, return_sequences = True))\n",
    "regressor.add(Dropout(0.2))\n",
    "\n",
    "# Adding a fourth LSTM layer and some Dropout regularisation\n",
    "regressor.add(LSTM(units = 50))\n",
    "regressor.add(Dropout(0.2))\n",
    "\n",
    "# Adding the output layer\n",
    "regressor.add(Dense(units = 1)) # dense class is used to make full connection to 4th layer' units = neurons = 1, since only predicted stock price is th output"
   ]
  },
  {
   "cell_type": "code",
   "execution_count": 14,
   "metadata": {},
   "outputs": [],
   "source": [
    "# Compiling the RNN\n",
    "regressor.compile(optimizer = 'adam', loss = 'mean_squared_error') # adam is powerful, and performs powerful weight. Other is RMSprop, which is good for RNN"
   ]
  },
  {
   "cell_type": "code",
   "execution_count": 15,
   "metadata": {},
   "outputs": [
    {
     "name": "stderr",
     "output_type": "stream",
     "text": [
      "C:\\Users\\iamak\\Anaconda3\\envs\\deeplearning\\lib\\site-packages\\theano\\scan_module\\scan_perform_ext.py:76: UserWarning: The file scan_perform.c is not available. This donot happen normally. You are probably in a strangesetup. This mean Theano can not use the cython code for scan. If youwant to remove this warning, use the Theano flag'cxx=' (set to an empty string) to disable all ccode generation.\n",
      "  \"The file scan_perform.c is not available. This do\"\n",
      "C:\\Users\\iamak\\Anaconda3\\envs\\deeplearning\\lib\\site-packages\\theano\\scan_module\\scan_perform_ext.py:76: UserWarning: The file scan_perform.c is not available. This donot happen normally. You are probably in a strangesetup. This mean Theano can not use the cython code for scan. If youwant to remove this warning, use the Theano flag'cxx=' (set to an empty string) to disable all ccode generation.\n",
      "  \"The file scan_perform.c is not available. This do\"\n",
      "C:\\Users\\iamak\\Anaconda3\\envs\\deeplearning\\lib\\site-packages\\theano\\scan_module\\scan_perform_ext.py:76: UserWarning: The file scan_perform.c is not available. This donot happen normally. You are probably in a strangesetup. This mean Theano can not use the cython code for scan. If youwant to remove this warning, use the Theano flag'cxx=' (set to an empty string) to disable all ccode generation.\n",
      "  \"The file scan_perform.c is not available. This do\"\n",
      "C:\\Users\\iamak\\Anaconda3\\envs\\deeplearning\\lib\\site-packages\\theano\\scan_module\\scan_perform_ext.py:76: UserWarning: The file scan_perform.c is not available. This donot happen normally. You are probably in a strangesetup. This mean Theano can not use the cython code for scan. If youwant to remove this warning, use the Theano flag'cxx=' (set to an empty string) to disable all ccode generation.\n",
      "  \"The file scan_perform.c is not available. This do\"\n",
      "C:\\Users\\iamak\\Anaconda3\\envs\\deeplearning\\lib\\site-packages\\theano\\scan_module\\scan_perform_ext.py:76: UserWarning: The file scan_perform.c is not available. This donot happen normally. You are probably in a strangesetup. This mean Theano can not use the cython code for scan. If youwant to remove this warning, use the Theano flag'cxx=' (set to an empty string) to disable all ccode generation.\n",
      "  \"The file scan_perform.c is not available. This do\"\n",
      "C:\\Users\\iamak\\Anaconda3\\envs\\deeplearning\\lib\\site-packages\\theano\\scan_module\\scan_perform_ext.py:76: UserWarning: The file scan_perform.c is not available. This donot happen normally. You are probably in a strangesetup. This mean Theano can not use the cython code for scan. If youwant to remove this warning, use the Theano flag'cxx=' (set to an empty string) to disable all ccode generation.\n",
      "  \"The file scan_perform.c is not available. This do\"\n",
      "C:\\Users\\iamak\\Anaconda3\\envs\\deeplearning\\lib\\site-packages\\theano\\scan_module\\scan_perform_ext.py:76: UserWarning: The file scan_perform.c is not available. This donot happen normally. You are probably in a strangesetup. This mean Theano can not use the cython code for scan. If youwant to remove this warning, use the Theano flag'cxx=' (set to an empty string) to disable all ccode generation.\n",
      "  \"The file scan_perform.c is not available. This do\"\n",
      "C:\\Users\\iamak\\Anaconda3\\envs\\deeplearning\\lib\\site-packages\\theano\\scan_module\\scan_perform_ext.py:76: UserWarning: The file scan_perform.c is not available. This donot happen normally. You are probably in a strangesetup. This mean Theano can not use the cython code for scan. If youwant to remove this warning, use the Theano flag'cxx=' (set to an empty string) to disable all ccode generation.\n",
      "  \"The file scan_perform.c is not available. This do\"\n"
     ]
    },
    {
     "name": "stdout",
     "output_type": "stream",
     "text": [
      "Epoch 1/100\n",
      "1198/1198 [==============================] - 8s 7ms/step - loss: 0.0544\n",
      "Epoch 2/100\n",
      "1198/1198 [==============================] - 9s 8ms/step - loss: 0.0065\n",
      "Epoch 3/100\n",
      "1198/1198 [==============================] - 8s 7ms/step - loss: 0.0052\n",
      "Epoch 4/100\n",
      "1198/1198 [==============================] - 8s 7ms/step - loss: 0.0052\n",
      "Epoch 5/100\n",
      "1198/1198 [==============================] - 9s 7ms/step - loss: 0.0054\n",
      "Epoch 6/100\n",
      "1198/1198 [==============================] - 9s 8ms/step - loss: 0.0049\n",
      "Epoch 7/100\n",
      "1198/1198 [==============================] - 9s 8ms/step - loss: 0.0048\n",
      "Epoch 8/100\n",
      "1198/1198 [==============================] - 8s 7ms/step - loss: 0.0045\n",
      "Epoch 9/100\n",
      "1198/1198 [==============================] - 9s 7ms/step - loss: 0.0040\n",
      "Epoch 10/100\n",
      "1198/1198 [==============================] - 8s 6ms/step - loss: 0.0042\n",
      "Epoch 11/100\n",
      "1198/1198 [==============================] - 8s 6ms/step - loss: 0.0042\n",
      "Epoch 12/100\n",
      "1198/1198 [==============================] - 9s 8ms/step - loss: 0.0047\n",
      "Epoch 13/100\n",
      "1198/1198 [==============================] - 8s 7ms/step - loss: 0.0036\n",
      "Epoch 14/100\n",
      "1198/1198 [==============================] - 8s 7ms/step - loss: 0.0042\n",
      "Epoch 15/100\n",
      "1198/1198 [==============================] - 9s 7ms/step - loss: 0.0036A: 1s - loss: 0\n",
      "Epoch 16/100\n",
      "1198/1198 [==============================] - 9s 8ms/step - loss: 0.0042\n",
      "Epoch 17/100\n",
      "1198/1198 [==============================] - 8s 7ms/step - loss: 0.0038\n",
      "Epoch 18/100\n",
      "1198/1198 [==============================] - 8s 7ms/step - loss: 0.0037\n",
      "Epoch 19/100\n",
      "1198/1198 [==============================] - 8s 7ms/step - loss: 0.0035\n",
      "Epoch 20/100\n",
      "1198/1198 [==============================] - 8s 7ms/step - loss: 0.0038\n",
      "Epoch 21/100\n",
      "1198/1198 [==============================] - 10s 8ms/step - loss: 0.0038\n",
      "Epoch 22/100\n",
      "1198/1198 [==============================] - 9s 8ms/step - loss: 0.0033\n",
      "Epoch 23/100\n",
      "1198/1198 [==============================] - 9s 7ms/step - loss: 0.0034\n",
      "Epoch 24/100\n",
      "1198/1198 [==============================] - 9s 7ms/step - loss: 0.0029\n",
      "Epoch 25/100\n",
      "1198/1198 [==============================] - 8s 7ms/step - loss: 0.0030\n",
      "Epoch 26/100\n",
      "1198/1198 [==============================] - 9s 7ms/step - loss: 0.0033\n",
      "Epoch 27/100\n",
      "1198/1198 [==============================] - 8s 7ms/step - loss: 0.0028\n",
      "Epoch 28/100\n",
      "1198/1198 [==============================] - 11s 9ms/step - loss: 0.0029\n",
      "Epoch 29/100\n",
      "1198/1198 [==============================] - 9s 8ms/step - loss: 0.0028\n",
      "Epoch 30/100\n",
      "1198/1198 [==============================] - 8s 7ms/step - loss: 0.0032\n",
      "Epoch 31/100\n",
      "1198/1198 [==============================] - 9s 8ms/step - loss: 0.0034\n",
      "Epoch 32/100\n",
      "1198/1198 [==============================] - 8s 7ms/step - loss: 0.0030\n",
      "Epoch 33/100\n",
      "1198/1198 [==============================] - 8s 7ms/step - loss: 0.0034\n",
      "Epoch 34/100\n",
      "1198/1198 [==============================] - 8s 7ms/step - loss: 0.0032\n",
      "Epoch 35/100\n",
      "1198/1198 [==============================] - 9s 7ms/step - loss: 0.0028\n",
      "Epoch 36/100\n",
      "1198/1198 [==============================] - 8s 7ms/step - loss: 0.0027\n",
      "Epoch 37/100\n",
      "1198/1198 [==============================] - 9s 8ms/step - loss: 0.0026\n",
      "Epoch 38/100\n",
      "1198/1198 [==============================] - 9s 7ms/step - loss: 0.0028\n",
      "Epoch 39/100\n",
      "1198/1198 [==============================] - 8s 7ms/step - loss: 0.0026\n",
      "Epoch 40/100\n",
      "1198/1198 [==============================] - 10s 8ms/step - loss: 0.0024\n",
      "Epoch 41/100\n",
      "1198/1198 [==============================] - 8s 7ms/step - loss: 0.0023A: 2s - l\n",
      "Epoch 42/100\n",
      "1198/1198 [==============================] - 8s 6ms/step - loss: 0.0027\n",
      "Epoch 43/100\n",
      "1198/1198 [==============================] - 7s 6ms/step - loss: 0.0027\n",
      "Epoch 44/100\n",
      "1198/1198 [==============================] - 8s 7ms/step - loss: 0.0026\n",
      "Epoch 45/100\n",
      "1198/1198 [==============================] - 7s 6ms/step - loss: 0.0024\n",
      "Epoch 46/100\n",
      "1198/1198 [==============================] - 9s 8ms/step - loss: 0.0024\n",
      "Epoch 47/100\n",
      "1198/1198 [==============================] - 8s 7ms/step - loss: 0.0024\n",
      "Epoch 48/100\n",
      "1198/1198 [==============================] - 8s 7ms/step - loss: 0.0028\n",
      "Epoch 49/100\n",
      "1198/1198 [==============================] - 10s 8ms/step - loss: 0.0025\n",
      "Epoch 50/100\n",
      "1198/1198 [==============================] - 9s 7ms/step - loss: 0.0023\n",
      "Epoch 51/100\n",
      "1198/1198 [==============================] - 8s 7ms/step - loss: 0.0022\n",
      "Epoch 52/100\n",
      "1198/1198 [==============================] - 8s 7ms/step - loss: 0.0022\n",
      "Epoch 53/100\n",
      "1198/1198 [==============================] - 8s 7ms/step - loss: 0.0024\n",
      "Epoch 54/100\n",
      "1198/1198 [==============================] - 8s 7ms/step - loss: 0.0022\n",
      "Epoch 55/100\n",
      "1198/1198 [==============================] - 8s 7ms/step - loss: 0.0024\n",
      "Epoch 56/100\n",
      "1198/1198 [==============================] - 9s 8ms/step - loss: 0.0021\n",
      "Epoch 57/100\n",
      "1198/1198 [==============================] - 9s 8ms/step - loss: 0.0022\n",
      "Epoch 58/100\n",
      "1198/1198 [==============================] - 8s 7ms/step - loss: 0.0024\n",
      "Epoch 59/100\n",
      "1198/1198 [==============================] - 9s 7ms/step - loss: 0.0021\n",
      "Epoch 60/100\n",
      "1198/1198 [==============================] - 8s 6ms/step - loss: 0.0022\n",
      "Epoch 61/100\n",
      "1198/1198 [==============================] - 10s 8ms/step - loss: 0.0022\n",
      "Epoch 62/100\n",
      "1198/1198 [==============================] - 9s 7ms/step - loss: 0.0023\n",
      "Epoch 63/100\n",
      "1198/1198 [==============================] - 8s 7ms/step - loss: 0.0020\n",
      "Epoch 64/100\n",
      "1198/1198 [==============================] - 8s 7ms/step - loss: 0.0020\n",
      "Epoch 65/100\n",
      "1198/1198 [==============================] - 9s 7ms/step - loss: 0.0022\n",
      "Epoch 66/100\n",
      "1198/1198 [==============================] - 9s 8ms/step - loss: 0.0021\n",
      "Epoch 67/100\n",
      "1198/1198 [==============================] - 10s 8ms/step - loss: 0.0022\n",
      "Epoch 68/100\n",
      "1198/1198 [==============================] - 11s 9ms/step - loss: 0.0019\n",
      "Epoch 69/100\n",
      "1198/1198 [==============================] - 10s 8ms/step - loss: 0.0018\n",
      "Epoch 70/100\n",
      "1198/1198 [==============================] - 10s 8ms/step - loss: 0.0018\n",
      "Epoch 71/100\n",
      "1198/1198 [==============================] - 9s 8ms/step - loss: 0.0018\n",
      "Epoch 72/100\n",
      "1198/1198 [==============================] - 8s 7ms/step - loss: 0.0019\n",
      "Epoch 73/100\n",
      "1198/1198 [==============================] - 8s 7ms/step - loss: 0.0020\n",
      "Epoch 74/100\n",
      "1198/1198 [==============================] - 8s 7ms/step - loss: 0.0016\n",
      "Epoch 75/100\n",
      "1198/1198 [==============================] - 9s 7ms/step - loss: 0.0018\n",
      "Epoch 76/100\n",
      "1198/1198 [==============================] - 8s 7ms/step - loss: 0.0019\n",
      "Epoch 77/100\n",
      "1198/1198 [==============================] - 9s 7ms/step - loss: 0.0021\n",
      "Epoch 78/100\n",
      "1198/1198 [==============================] - 8s 7ms/step - loss: 0.0018\n",
      "Epoch 79/100\n",
      "1198/1198 [==============================] - 9s 7ms/step - loss: 0.0016\n",
      "Epoch 80/100\n",
      "1198/1198 [==============================] - 8s 7ms/step - loss: 0.0019\n",
      "Epoch 81/100\n",
      "1198/1198 [==============================] - 9s 7ms/step - loss: 0.0018\n",
      "Epoch 82/100\n",
      "1198/1198 [==============================] - 9s 7ms/step - loss: 0.0019\n",
      "Epoch 83/100\n",
      "1198/1198 [==============================] - 8s 7ms/step - loss: 0.0016\n",
      "Epoch 84/100\n",
      "1198/1198 [==============================] - 8s 6ms/step - loss: 0.0018\n",
      "Epoch 85/100\n",
      "1198/1198 [==============================] - 7s 6ms/step - loss: 0.0017\n",
      "Epoch 86/100\n",
      "1198/1198 [==============================] - 8s 6ms/step - loss: 0.0017\n",
      "Epoch 87/100\n",
      "1198/1198 [==============================] - 8s 6ms/step - loss: 0.0017\n",
      "Epoch 88/100\n",
      "1198/1198 [==============================] - 8s 7ms/step - loss: 0.0017\n",
      "Epoch 89/100\n",
      "1198/1198 [==============================] - 8s 7ms/step - loss: 0.0016\n",
      "Epoch 90/100\n",
      "1198/1198 [==============================] - 8s 7ms/step - loss: 0.0016\n",
      "Epoch 91/100\n",
      "1198/1198 [==============================] - 8s 7ms/step - loss: 0.0017\n",
      "Epoch 92/100\n",
      "1198/1198 [==============================] - 8s 7ms/step - loss: 0.0015\n",
      "Epoch 93/100\n",
      "1198/1198 [==============================] - 8s 7ms/step - loss: 0.0016\n",
      "Epoch 94/100\n",
      "1198/1198 [==============================] - 8s 7ms/step - loss: 0.0014\n",
      "Epoch 95/100\n",
      "1198/1198 [==============================] - 8s 7ms/step - loss: 0.0017\n",
      "Epoch 96/100\n",
      "1198/1198 [==============================] - 8s 7ms/step - loss: 0.0014\n",
      "Epoch 97/100\n"
     ]
    },
    {
     "name": "stdout",
     "output_type": "stream",
     "text": [
      "1198/1198 [==============================] - 8s 7ms/step - loss: 0.0019\n",
      "Epoch 98/100\n",
      "1198/1198 [==============================] - 8s 7ms/step - loss: 0.0015\n",
      "Epoch 99/100\n",
      "1198/1198 [==============================] - 8s 7ms/step - loss: 0.0015\n",
      "Epoch 100/100\n",
      "1198/1198 [==============================] - 9s 7ms/step - loss: 0.0014\n"
     ]
    },
    {
     "data": {
      "text/plain": [
       "<keras.callbacks.History at 0x2480d5a8bc8>"
      ]
     },
     "execution_count": 15,
     "metadata": {},
     "output_type": "execute_result"
    }
   ],
   "source": [
    "# Fitting the RNN to the Training set\n",
    "\n",
    "# epochs - number of times of forward and backward propagation - done in batch size of 32, not after each stock price; gives good convergence\n",
    "\n",
    "regressor.fit(X_train, y_train, epochs = 100, batch_size = 32) "
   ]
  },
  {
   "cell_type": "code",
   "execution_count": 16,
   "metadata": {},
   "outputs": [],
   "source": [
    "# Getting the real stock price of 2017\n",
    "dataset_test = pd.read_csv('Google_Stock_Price_Test.csv')\n",
    "real_stock_price = dataset_test.iloc[:, 1:2].values"
   ]
  },
  {
   "cell_type": "code",
   "execution_count": 17,
   "metadata": {},
   "outputs": [
    {
     "name": "stderr",
     "output_type": "stream",
     "text": [
      "C:\\Users\\iamak\\Anaconda3\\envs\\deeplearning\\lib\\site-packages\\theano\\scan_module\\scan_perform_ext.py:76: UserWarning: The file scan_perform.c is not available. This donot happen normally. You are probably in a strangesetup. This mean Theano can not use the cython code for scan. If youwant to remove this warning, use the Theano flag'cxx=' (set to an empty string) to disable all ccode generation.\n",
      "  \"The file scan_perform.c is not available. This do\"\n",
      "C:\\Users\\iamak\\Anaconda3\\envs\\deeplearning\\lib\\site-packages\\theano\\scan_module\\scan_perform_ext.py:76: UserWarning: The file scan_perform.c is not available. This donot happen normally. You are probably in a strangesetup. This mean Theano can not use the cython code for scan. If youwant to remove this warning, use the Theano flag'cxx=' (set to an empty string) to disable all ccode generation.\n",
      "  \"The file scan_perform.c is not available. This do\"\n",
      "C:\\Users\\iamak\\Anaconda3\\envs\\deeplearning\\lib\\site-packages\\theano\\scan_module\\scan_perform_ext.py:76: UserWarning: The file scan_perform.c is not available. This donot happen normally. You are probably in a strangesetup. This mean Theano can not use the cython code for scan. If youwant to remove this warning, use the Theano flag'cxx=' (set to an empty string) to disable all ccode generation.\n",
      "  \"The file scan_perform.c is not available. This do\"\n",
      "C:\\Users\\iamak\\Anaconda3\\envs\\deeplearning\\lib\\site-packages\\theano\\scan_module\\scan_perform_ext.py:76: UserWarning: The file scan_perform.c is not available. This donot happen normally. You are probably in a strangesetup. This mean Theano can not use the cython code for scan. If youwant to remove this warning, use the Theano flag'cxx=' (set to an empty string) to disable all ccode generation.\n",
      "  \"The file scan_perform.c is not available. This do\"\n"
     ]
    }
   ],
   "source": [
    "# Getting the predicted stock price of 2017\n",
    "dataset_total = pd.concat((dataset_train['Open'], dataset_test['Open']), axis = 0)\n",
    "inputs = dataset_total[len(dataset_total) - len(dataset_test) - 60:].values\n",
    "inputs = inputs.reshape(-1,1)\n",
    "inputs = sc.transform(inputs) # not use fit because we want to use same scaling as on train set\n",
    "X_test = []\n",
    "for i in range(60, 80): # getting for next 20 days\n",
    "    X_test.append(inputs[i-60:i, 0]) \n",
    "X_test = np.array(X_test)\n",
    "X_test = np.reshape(X_test, (X_test.shape[0], X_test.shape[1], 1))\n",
    "predicted_stock_price = regressor.predict(X_test)\n",
    "predicted_stock_price = sc.inverse_transform(predicted_stock_price) # to reverse the scaling of stock price"
   ]
  },
  {
   "cell_type": "markdown",
   "metadata": {},
   "source": [
    "### The model cannot react to fast non-linear changes in stock price. According to Brownian Motion mathematical concept in Financial Engineering, the future stock price variations are independent of the past. "
   ]
  },
  {
   "cell_type": "code",
   "execution_count": 27,
   "metadata": {},
   "outputs": [
    {
     "data": {
      "image/png": "[encoded data removed]",
      "text/plain": [
       "<Figure size 432x288 with 1 Axes>"
      ]
     },
     "metadata": {
      "needs_background": "light"
     },
     "output_type": "display_data"
    }
   ],
   "source": [
    "# Visualising the results\n",
    "plt.plot(real_stock_price, color = 'red', label = 'Real Google Stock Price')\n",
    "plt.plot(predicted_stock_price, color = 'blue', label = 'Predicted Google Stock Price')\n",
    "plt.title('Google Stock Price Prediction')\n",
    "plt.xlabel('Time')\n",
    "plt.ylabel('Google Stock Price')\n",
    "plt.legend()\n",
    "plt.show()"
   ]
  },
  {
   "cell_type": "code",
   "execution_count": 19,
   "metadata": {},
   "outputs": [
    {
     "data": {
      "text/plain": [
       "array([[778.81],\n",
       "       [788.36],\n",
       "       [786.08],\n",
       "       [795.26],\n",
       "       [806.4 ],\n",
       "       [807.86],\n",
       "       [805.  ],\n",
       "       [807.14],\n",
       "       [807.48],\n",
       "       [807.08],\n",
       "       [805.81],\n",
       "       [805.12],\n",
       "       [806.91],\n",
       "       [807.25],\n",
       "       [822.3 ],\n",
       "       [829.62],\n",
       "       [837.81],\n",
       "       [834.71],\n",
       "       [814.66],\n",
       "       [796.86]])"
      ]
     },
     "execution_count": 19,
     "metadata": {},
     "output_type": "execute_result"
    }
   ],
   "source": [
    "real_stock_price"
   ]
  },
  {
   "cell_type": "code",
   "execution_count": 21,
   "metadata": {},
   "outputs": [
    {
     "data": {
      "text/plain": [
       "array([[790.2539 ],\n",
       "       [787.35376],\n",
       "       [787.17615],\n",
       "       [788.6619 ],\n",
       "       [792.2383 ],\n",
       "       [798.3939 ],\n",
       "       [804.3915 ],\n",
       "       [807.20734],\n",
       "       [807.5207 ],\n",
       "       [806.826  ],\n",
       "       [806.1278 ],\n",
       "       [805.6351 ],\n",
       "       [805.385  ],\n",
       "       [805.8656 ],\n",
       "       [806.8656 ],\n",
       "       [811.28156],\n",
       "       [818.43054],\n",
       "       [826.43976],\n",
       "       [831.2321 ],\n",
       "       [827.6475 ]], dtype=float32)"
      ]
     },
     "execution_count": 21,
     "metadata": {},
     "output_type": "execute_result"
    }
   ],
   "source": [
    "predicted_stock_price"
   ]
  },
  {
   "cell_type": "code",
   "execution_count": 30,
   "metadata": {},
   "outputs": [
    {
     "data": {
      "text/plain": [
       "0.014558363463475865"
      ]
     },
     "execution_count": 30,
     "metadata": {},
     "output_type": "execute_result"
    }
   ],
   "source": [
    "# calculating RMSE to check for closeness of fit. Otherwise the trend is more important, rather than actual predictions\n",
    "import math\n",
    "from sklearn.metrics import mean_squared_error\n",
    "rmse = math.sqrt(mean_squared_error(real_stock_price, predicted_stock_price))\n",
    "rmse/800"
   ]
  },
  {
   "cell_type": "markdown",
   "metadata": {},
   "source": [
    "### To improve the model:\n",
    "#### 1) add more data\n",
    "#### 2) add more layers\n",
    "#### 3) add more neurons\n",
    "#### 4) add more predictors, for ex. some other stock price which is correlated with Google's stock price\n",
    "#### 5) increasing number of timesteps from 60 to more..."
   ]
  },
  {
   "cell_type": "code",
   "execution_count": null,
   "metadata": {},
   "outputs": [],
   "source": []
  }
 ],
 "metadata": {
  "kernelspec": {
   "display_name": "mykernel",
   "language": "python",
   "name": "mykernel"
  },
  "language_info": {
   "codemirror_mode": {
    "name": "ipython",
    "version": 3
   },
   "file_extension": ".py",
   "mimetype": "text/x-python",
   "name": "python",
   "nbconvert_exporter": "python",
   "pygments_lexer": "ipython3",
   "version": "3.7.4"
  }
 },
 "nbformat": 4,
 "nbformat_minor": 2
}
